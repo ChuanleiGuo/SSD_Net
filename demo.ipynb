{
 "cells": [
  {
   "cell_type": "code",
   "execution_count": null,
   "metadata": {
    "collapsed": true
   },
   "outputs": [],
   "source": [
    "import os\n",
    "import sys\n",
    "import mxnet as mx\n",
    "\n",
    "from detect.detector import Detector\n",
    "from detect.rolling_detector import RollingDetector\n",
    "from networks.symbol_factory import *"
   ]
  },
  {
   "cell_type": "code",
   "execution_count": null,
   "metadata": {
    "collapsed": true
   },
   "outputs": [],
   "source": [
    "network = \"resnet50-rolling\"\n",
    "# imgs = [\n",
    "#     \"000000\", \n",
    "#     \"000001\", \n",
    "#     \"000002\", \n",
    "#     \"000003\"]\n",
    "imgs = [\"000007\"]\n",
    "img_dir = \"/Users/chuan/Desktop/SSD_TEST/data/KITTI/images/\"\n",
    "ext = \".png\"\n",
    "epoch = 70\n",
    "prefix = \"/Users/chuan/Desktop/SSD_TEST/model/ssd_resnet50-rolling_\"\n",
    "cpu = True\n",
    "gpu_id = 0\n",
    "data_shape = (3, 768, 2560)\n",
    "mean_r, mean_g, mean_b = 123, 117, 104\n",
    "mean_pixels = (mean_r, mean_g, mean_b)\n",
    "thresh = 0.7\n",
    "nms_thresh = 0.5\n",
    "force_nms = True\n",
    "show_timer = True\n",
    "deploy_net = False\n",
    "class_names = [\"Car\"]"
   ]
  },
  {
   "cell_type": "code",
   "execution_count": null,
   "metadata": {
    "collapsed": true
   },
   "outputs": [],
   "source": [
    "def get_detector(net, prefix, epoch, data_shape, mean_pixels, \n",
    "                 ctx, num_class, nms_thresh=0.5, force_nms=True, nms_topk=400, rolling=False):\n",
    "    if net is not None:\n",
    "        if not rolling:\n",
    "            net = get_symbol(net, data_shape, num_classes=num_class, \n",
    "                             nms_thresh=nms_thresh, force_nms=force_nms, nms_topk=nms_topk)\n",
    "        else:\n",
    "            net = get_symbol(net, data_shape, rolling=True, rolling_time=4, num_classes=num_class, \n",
    "                             nms_thresh=nms_thresh, force_nms=force_nms, nms_topk=nms_topk)\n",
    "    detector = RollingDetector(net, prefix, epoch, data_shape, mean_pixels, ctx=ctx)\n",
    "    return detector"
   ]
  },
  {
   "cell_type": "code",
   "execution_count": null,
   "metadata": {
    "collapsed": true
   },
   "outputs": [],
   "source": [
    "if cpu:\n",
    "    ctx = mx.cpu()\n",
    "else:\n",
    "    ctx = mx.gpu(gpu_id)"
   ]
  },
  {
   "cell_type": "code",
   "execution_count": null,
   "metadata": {
    "collapsed": true
   },
   "outputs": [],
   "source": [
    "prefix = prefix + str(data_shape[1])"
   ]
  },
  {
   "cell_type": "code",
   "execution_count": null,
   "metadata": {},
   "outputs": [],
   "source": [
    "prefix"
   ]
  },
  {
   "cell_type": "code",
   "execution_count": null,
   "metadata": {
    "collapsed": true
   },
   "outputs": [],
   "source": [
    "rolling_detector = get_detector(network, prefix, epoch, data_shape, \n",
    "                                mean_pixels, ctx, len(class_names), nms_thresh, force_nms, rolling=True)"
   ]
  },
  {
   "cell_type": "code",
   "execution_count": null,
   "metadata": {},
   "outputs": [],
   "source": [
    "rolling_detector.detect_and_visualize(imgs, img_dir, ext, class_names, thresh, show_timer)"
   ]
  },
  {
   "cell_type": "code",
   "execution_count": null,
   "metadata": {
    "collapsed": true
   },
   "outputs": [],
   "source": []
  }
 ],
 "metadata": {
  "kernelspec": {
   "display_name": "Python 3",
   "language": "python",
   "name": "python3"
  },
  "language_info": {
   "codemirror_mode": {
    "name": "ipython",
    "version": 3
   },
   "file_extension": ".py",
   "mimetype": "text/x-python",
   "name": "python",
   "nbconvert_exporter": "python",
   "pygments_lexer": "ipython3",
   "version": "3.6.2"
  }
 },
 "nbformat": 4,
 "nbformat_minor": 2
}
